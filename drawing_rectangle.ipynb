{
 "cells": [
  {
   "cell_type": "code",
   "execution_count": 11,
   "id": "02ad34c8-8c1e-4885-a284-aee9f9bc41b0",
   "metadata": {},
   "outputs": [],
   "source": [
    "import cv2\n",
    "import numpy as np\n",
    "drawing=False\n",
    "ix=-1\n",
    "iy=-1\n",
    "\n",
    "def draw_rectangle(event,x,y,flags, param):\n",
    "    global ix,iy,drawing\n",
    "    if event==cv2.EVENT_LBUTTONDOWN:\n",
    "        drawing=True\n",
    "        ix=x\n",
    "        iy=y\n",
    "    elif event==cv2.EVENT_MOUSEMOVE:\n",
    "        if drawing==True:\n",
    "             cv2.rectangle(img,(ix,iy),(x,y),(0,255,0),-1)\n",
    "    elif event==cv2.EVENT_LBUTTONUP:\n",
    "        drawing=False\n",
    "        #cv2.rectangle(img,(ix,iy),(x,y),(0,255,0),-1)\n",
    "        \n",
    "\n",
    "\n",
    "\n",
    "img=np.zeros((512,512,3))\n",
    "cv2.namedWindow(winname='my_drawing')\n",
    "cv2.setMouseCallback('my_drawing',draw_rectangle)\n",
    "\n",
    "\n",
    "\n",
    "while True:\n",
    "  cv2.imshow('my_drawing', img)\n",
    "  if cv2.waitKey(20) & 0xff==27:\n",
    "   break\n",
    "cv2.destroyAllWindows()"
   ]
  },
  {
   "cell_type": "code",
   "execution_count": null,
   "id": "306cdc27-0e74-4f10-8281-b85a0245698b",
   "metadata": {},
   "outputs": [],
   "source": []
  }
 ],
 "metadata": {
  "kernelspec": {
   "display_name": "Python 3 (ipykernel)",
   "language": "python",
   "name": "python3"
  },
  "language_info": {
   "codemirror_mode": {
    "name": "ipython",
    "version": 3
   },
   "file_extension": ".py",
   "mimetype": "text/x-python",
   "name": "python",
   "nbconvert_exporter": "python",
   "pygments_lexer": "ipython3",
   "version": "3.9.13"
  }
 },
 "nbformat": 4,
 "nbformat_minor": 5
}
